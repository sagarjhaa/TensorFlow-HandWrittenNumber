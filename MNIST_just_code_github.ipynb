{
  "nbformat": 4,
  "nbformat_minor": 0,
  "metadata": {
    "colab": {
      "name": "MNIST - just code - github.ipynb",
      "version": "0.3.2",
      "provenance": [],
      "collapsed_sections": [],
      "include_colab_link": true
    },
    "kernelspec": {
      "name": "python3",
      "display_name": "Python 3"
    }
  },
  "cells": [
    {
      "cell_type": "markdown",
      "metadata": {
        "id": "view-in-github",
        "colab_type": "text"
      },
      "source": [
        "<a href=\"https://colab.research.google.com/github/sagarjhaa/TensorFlow-HandWrittenNumber/blob/master/MNIST_just_code_github.ipynb\" target=\"_parent\"><img src=\"https://colab.research.google.com/assets/colab-badge.svg\" alt=\"Open In Colab\"/></a>"
      ]
    },
    {
      "metadata": {
        "id": "7_m7eDz7qd0s",
        "colab_type": "code",
        "outputId": "70d08434-db96-40c0-c18f-553260ceec6c",
        "colab": {
          "base_uri": "https://localhost:8080/",
          "height": 34
        }
      },
      "cell_type": "code",
      "source": [
        "from __future__ import print_function\n",
        "import keras # a machine learning library that lets you create neural networks\n",
        "from keras.datasets import mnist # the needed dataset\n",
        "from keras.models import Sequential \n",
        "from keras.layers import Dense, Dropout, Flatten, Activation # importing different types of layers that you can use with your model\n",
        "from keras.layers import Conv2D, MaxPooling2D, MaxPooling1D # same as above\n",
        "from keras import backend as K\n",
        "import random # lets us generate random numbers - used when looking at random entries from the dataset.\n",
        "import matplotlib # lets us display images\n",
        "import numpy as np # library for delaing with arrays of numbers - the data is represented as an array\n",
        "import tensorflow as tf # the backend machine learning library that keras relies on\n",
        "import matplotlib.pyplot as plt #for charts at end"
      ],
      "execution_count": 0,
      "outputs": [
        {
          "output_type": "stream",
          "text": [
            "Using TensorFlow backend.\n"
          ],
          "name": "stderr"
        }
      ]
    },
    {
      "metadata": {
        "id": "kcdyBcXOqgXG",
        "colab_type": "code",
        "colab": {}
      },
      "cell_type": "code",
      "source": [
        "(x_train, y_train), (x_test, y_test) = mnist.load_data() # downloading the MNIST dataset\n"
      ],
      "execution_count": 0,
      "outputs": []
    },
    {
      "metadata": {
        "id": "Cn8h3AS7vZvk",
        "colab_type": "code",
        "outputId": "fc26bd31-8c13-48ce-d18a-039eaec7e72d",
        "colab": {
          "base_uri": "https://localhost:8080/",
          "height": 848
        }
      },
      "cell_type": "code",
      "source": [
        "np_x_train = np.array(x_train[0]).reshape(28,28).tolist()\n",
        "\n",
        "for i in range(0,len(np_x_train)):\n",
        "  #print(np_x_train[i])\n",
        "  print(list(map(lambda x : \"{0:0=3d}\".format(x),np_x_train[i])))\n",
        "\n",
        "matplotlib.pyplot.matshow(x_train[0])\n",
        "# print(\"Size of the array : \" + str(x_train[0].shape))\n",
        "# matplotlib.pyplot.matshow(x_train[157])\n",
        "print(\"The ground truth for this entry is: \" + str((y_train[0])))"
      ],
      "execution_count": 0,
      "outputs": [
        {
          "output_type": "stream",
          "text": [
            "['000', '000', '000', '000', '000', '000', '000', '000', '000', '000', '000', '000', '000', '000', '000', '000', '000', '000', '000', '000', '000', '000', '000', '000', '000', '000', '000', '000']\n",
            "['000', '000', '000', '000', '000', '000', '000', '000', '000', '000', '000', '000', '000', '000', '000', '000', '000', '000', '000', '000', '000', '000', '000', '000', '000', '000', '000', '000']\n",
            "['000', '000', '000', '000', '000', '000', '000', '000', '000', '000', '000', '000', '000', '000', '000', '000', '000', '000', '000', '000', '000', '000', '000', '000', '000', '000', '000', '000']\n",
            "['000', '000', '000', '000', '000', '000', '000', '000', '000', '000', '000', '000', '000', '000', '000', '000', '000', '000', '000', '000', '000', '000', '000', '000', '000', '000', '000', '000']\n",
            "['000', '000', '000', '000', '000', '000', '000', '000', '000', '000', '000', '000', '000', '000', '000', '000', '000', '000', '000', '000', '000', '000', '000', '000', '000', '000', '000', '000']\n",
            "['000', '000', '000', '000', '000', '000', '000', '000', '000', '000', '000', '000', '003', '018', '018', '018', '126', '136', '175', '026', '166', '255', '247', '127', '000', '000', '000', '000']\n",
            "['000', '000', '000', '000', '000', '000', '000', '000', '030', '036', '094', '154', '170', '253', '253', '253', '253', '253', '225', '172', '253', '242', '195', '064', '000', '000', '000', '000']\n",
            "['000', '000', '000', '000', '000', '000', '000', '049', '238', '253', '253', '253', '253', '253', '253', '253', '253', '251', '093', '082', '082', '056', '039', '000', '000', '000', '000', '000']\n",
            "['000', '000', '000', '000', '000', '000', '000', '018', '219', '253', '253', '253', '253', '253', '198', '182', '247', '241', '000', '000', '000', '000', '000', '000', '000', '000', '000', '000']\n",
            "['000', '000', '000', '000', '000', '000', '000', '000', '080', '156', '107', '253', '253', '205', '011', '000', '043', '154', '000', '000', '000', '000', '000', '000', '000', '000', '000', '000']\n",
            "['000', '000', '000', '000', '000', '000', '000', '000', '000', '014', '001', '154', '253', '090', '000', '000', '000', '000', '000', '000', '000', '000', '000', '000', '000', '000', '000', '000']\n",
            "['000', '000', '000', '000', '000', '000', '000', '000', '000', '000', '000', '139', '253', '190', '002', '000', '000', '000', '000', '000', '000', '000', '000', '000', '000', '000', '000', '000']\n",
            "['000', '000', '000', '000', '000', '000', '000', '000', '000', '000', '000', '011', '190', '253', '070', '000', '000', '000', '000', '000', '000', '000', '000', '000', '000', '000', '000', '000']\n",
            "['000', '000', '000', '000', '000', '000', '000', '000', '000', '000', '000', '000', '035', '241', '225', '160', '108', '001', '000', '000', '000', '000', '000', '000', '000', '000', '000', '000']\n",
            "['000', '000', '000', '000', '000', '000', '000', '000', '000', '000', '000', '000', '000', '081', '240', '253', '253', '119', '025', '000', '000', '000', '000', '000', '000', '000', '000', '000']\n",
            "['000', '000', '000', '000', '000', '000', '000', '000', '000', '000', '000', '000', '000', '000', '045', '186', '253', '253', '150', '027', '000', '000', '000', '000', '000', '000', '000', '000']\n",
            "['000', '000', '000', '000', '000', '000', '000', '000', '000', '000', '000', '000', '000', '000', '000', '016', '093', '252', '253', '187', '000', '000', '000', '000', '000', '000', '000', '000']\n",
            "['000', '000', '000', '000', '000', '000', '000', '000', '000', '000', '000', '000', '000', '000', '000', '000', '000', '249', '253', '249', '064', '000', '000', '000', '000', '000', '000', '000']\n",
            "['000', '000', '000', '000', '000', '000', '000', '000', '000', '000', '000', '000', '000', '000', '046', '130', '183', '253', '253', '207', '002', '000', '000', '000', '000', '000', '000', '000']\n",
            "['000', '000', '000', '000', '000', '000', '000', '000', '000', '000', '000', '000', '039', '148', '229', '253', '253', '253', '250', '182', '000', '000', '000', '000', '000', '000', '000', '000']\n",
            "['000', '000', '000', '000', '000', '000', '000', '000', '000', '000', '024', '114', '221', '253', '253', '253', '253', '201', '078', '000', '000', '000', '000', '000', '000', '000', '000', '000']\n",
            "['000', '000', '000', '000', '000', '000', '000', '000', '023', '066', '213', '253', '253', '253', '253', '198', '081', '002', '000', '000', '000', '000', '000', '000', '000', '000', '000', '000']\n",
            "['000', '000', '000', '000', '000', '000', '018', '171', '219', '253', '253', '253', '253', '195', '080', '009', '000', '000', '000', '000', '000', '000', '000', '000', '000', '000', '000', '000']\n",
            "['000', '000', '000', '000', '055', '172', '226', '253', '253', '253', '253', '244', '133', '011', '000', '000', '000', '000', '000', '000', '000', '000', '000', '000', '000', '000', '000', '000']\n",
            "['000', '000', '000', '000', '136', '253', '253', '253', '212', '135', '132', '016', '000', '000', '000', '000', '000', '000', '000', '000', '000', '000', '000', '000', '000', '000', '000', '000']\n",
            "['000', '000', '000', '000', '000', '000', '000', '000', '000', '000', '000', '000', '000', '000', '000', '000', '000', '000', '000', '000', '000', '000', '000', '000', '000', '000', '000', '000']\n",
            "['000', '000', '000', '000', '000', '000', '000', '000', '000', '000', '000', '000', '000', '000', '000', '000', '000', '000', '000', '000', '000', '000', '000', '000', '000', '000', '000', '000']\n",
            "['000', '000', '000', '000', '000', '000', '000', '000', '000', '000', '000', '000', '000', '000', '000', '000', '000', '000', '000', '000', '000', '000', '000', '000', '000', '000', '000', '000']\n",
            "The ground truth for this entry is: 5\n"
          ],
          "name": "stdout"
        },
        {
          "output_type": "display_data",
          "data": {
            "image/png": "[encoded data removed]",
            "text/plain": [
              "<Figure size 396x396 with 1 Axes>"
            ]
          },
          "metadata": {
            "tags": []
          }
        }
      ]
    },
    {
      "metadata": {
        "id": "IgQbGXLXqpF4",
        "colab_type": "code",
        "colab": {}
      },
      "cell_type": "code",
      "source": [
        "# just defining some parameters to train the network\n",
        "batch_size = 1#128\n",
        "num_classes = 10 # how many different \"classes\" of numbers there are\n",
        "epochs = 5 # how many times the network will look at the entire dataset"
      ],
      "execution_count": 0,
      "outputs": []
    },
    {
      "metadata": {
        "id": "WdJQtI9PrJ9j",
        "colab_type": "code",
        "colab": {}
      },
      "cell_type": "code",
      "source": [
        "img_rows, img_cols = 28, 28 # the \"shape\" of the input data; we need to define that the images are 28x28, "
      ],
      "execution_count": 0,
      "outputs": []
    },
    {
      "metadata": {
        "id": "HcyAjBSvrsH_",
        "colab_type": "code",
        "colab": {}
      },
      "cell_type": "code",
      "source": [
        "if K.image_data_format() == 'channels_first': # code for flattening the images into 28x28x1 (black and white) instead of 28x28x3 (rgb full color images)\n",
        "    x_train = x_train.reshape(x_train.shape[0], 1, img_rows, img_cols)\n",
        "    x_test = x_test.reshape(x_test.shape[0], 1, img_rows, img_cols)\n",
        "    input_shape = (1, img_rows, img_cols)\n",
        "else:\n",
        "    x_train = x_train.reshape(x_train.shape[0], img_rows, img_cols, 1)\n",
        "    x_test = x_test.reshape(x_test.shape[0], img_rows, img_cols, 1)\n",
        "input_shape = (img_rows, img_cols, 1)"
      ],
      "execution_count": 0,
      "outputs": []
    },
    {
      "metadata": {
        "id": "KBCelxbGrzFS",
        "colab_type": "code",
        "colab": {}
      },
      "cell_type": "code",
      "source": [
        "x_train = x_train.astype('float32')\n",
        "x_test = x_test.astype('float32')\n",
        "x_train /= 255\n",
        "x_test /= 255\n",
        "print('x_train shape:', x_train.shape)\n",
        "print(x_train.shape[0], 'numbers the network will learn from (train on)')\n",
        "print(x_test.shape[0], 'numbers the network will not learn from (will only be used for testing)')"
      ],
      "execution_count": 0,
      "outputs": []
    },
    {
      "metadata": {
        "id": "r71-xdXXr3cz",
        "colab_type": "code",
        "colab": {}
      },
      "cell_type": "code",
      "source": [
        "# One hot encoding\n",
        "y_train = keras.utils.to_categorical(y_train, num_classes)\n",
        "y_test = keras.utils.to_categorical(y_test, num_classes)"
      ],
      "execution_count": 0,
      "outputs": []
    },
    {
      "metadata": {
        "id": "cvBmxE0rr9Y1",
        "colab_type": "code",
        "colab": {}
      },
      "cell_type": "code",
      "source": [
        "model = Sequential()\n",
        "\n",
        "# your neural network goes here:\n",
        "# ----------------------------- #\n",
        "\n",
        "\n",
        "model.add(Flatten(input_shape=input_shape))\n",
        "model.add(Dense(128, activation='tanh'))\n",
        "model.add(Dense(128, activation='sigmoid'))\n",
        "model.add(Dense(128, activation='sigmoid'))\n",
        "model.add(Dense(128, activation='relu'))\n",
        "model.add(Dense(128))\n",
        "\n",
        "#model.add(Dense(units=64, activation='relu', input_dim=100))\n",
        "model.add(Dense(num_classes, activation=Activation(tf.nn.softmax)))\n",
        "\n",
        "\n",
        "# ----------------------------- #\n",
        "# end your neural network\n",
        "\n",
        "model.summary()"
      ],
      "execution_count": 0,
      "outputs": []
    },
    {
      "metadata": {
        "id": "fWVY39H2r95u",
        "colab_type": "code",
        "colab": {}
      },
      "cell_type": "code",
      "source": [
        "model.compile(loss=keras.losses.categorical_crossentropy,\n",
        "              optimizer=keras.optimizers.Adadelta(),\n",
        "metrics=['accuracy'])"
      ],
      "execution_count": 0,
      "outputs": []
    },
    {
      "metadata": {
        "id": "Y-GLTchgsApG",
        "colab_type": "code",
        "colab": {}
      },
      "cell_type": "code",
      "source": [
        "history = model.fit(x_train, y_train,\n",
        "          batch_size=batch_size,\n",
        "          epochs=epochs,\n",
        "          verbose=1,\n",
        "validation_data=(x_test, y_test))\n",
        "\n",
        "import matplotlib.pyplot as plt\n",
        "\n",
        "print(history.history.keys())\n",
        "# summarize history for accuracy\n",
        "plt.plot(history.history['acc'])\n",
        "plt.plot(history.history['val_acc'])\n",
        "plt.title('model accuracy')\n",
        "plt.ylabel('accuracy')\n",
        "plt.xlabel('epoch')\n",
        "plt.legend(['train', 'test'], loc='upper left')\n",
        "plt.show()\n",
        "# summarize history for loss\n",
        "plt.plot(history.history['loss'])\n",
        "plt.plot(history.history['val_loss'])\n",
        "plt.title('model loss')\n",
        "plt.ylabel('loss')\n",
        "plt.xlabel('step')\n",
        "plt.legend(['train', 'test'], loc='upper left')\n",
        "plt.show()"
      ],
      "execution_count": 0,
      "outputs": []
    },
    {
      "metadata": {
        "id": "MFC6XuRnsDYK",
        "colab_type": "code",
        "colab": {}
      },
      "cell_type": "code",
      "source": [
        "score = model.evaluate(x_test, y_test, verbose=0)\n",
        "print('Test loss:', score[0])\n",
        "print('Test accuracy:', score[1])"
      ],
      "execution_count": 0,
      "outputs": []
    }
  ]
}